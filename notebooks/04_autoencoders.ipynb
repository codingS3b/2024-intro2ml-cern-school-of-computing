{
 "cells": [
  {
   "cell_type": "markdown",
   "id": "51577e65",
   "metadata": {
    "cell_marker": "\"\"\""
   },
   "source": [
    "# Autoencoders\n",
    "\n",
    "An autoencoder is a type of artificial neural network used for learning efficient codings of input data. It's essentially a network that attempts to replicate its input (encoding) as its output (decoding), but the network is designed in such a way that it must learn an efficient representation (compression) for the input data in order to map it back to itself.\n",
    "\n",
    "The importance of autoencoders lies in their ability to learn the underlying structure of complex data, making them valuable tools for scientific data analysis. Here's how:\n",
    "\n",
    "1. Dimensionality Reduction: Autoencoders can be used to reduce the dimensionality of high-dimensional data while preserving its essential characteristics. This is particularly useful in cases where the high dimensionality makes computations slow or the data overfitting occurs.\n",
    "\n",
    "2. Denoising: By training autoencoders on noisy versions of the data, they can learn to remove noise from the original data, making it cleaner and easier to analyze.\n",
    "\n",
    "3. Anomaly Detection: The encoder part of the autoencoder can be used to represent the input data in a lower-dimensional space. Any data point that is far from the rest in this space can be considered an anomaly, as it doesn't fit the pattern learned by the autoencoder during training.\n",
    "\n",
    "4. Generative Modeling: Autoencoders can be used as generative models, allowing them to generate new data that are similar to the original data. This can be useful in various scientific applications, such as creating synthetic data or for exploring the data space.\n",
    "\n",
    "5. Feature Learning: Autoencoders can learn useful features from raw data, which can then be used as inputs for other machine learning models, improving their performance.\n",
    "\n",
    "In summary, autoencoders are a powerful tool for scientific data analysis due to their ability to learn the underlying structure of complex data."
   ]
  },
  {
   "cell_type": "markdown",
   "id": "73a5099d",
   "metadata": {
    "cell_marker": "\"\"\""
   },
   "source": [
    "## An autoencoder for denoising\n",
    "\n",
    "In the next cells, we will face a situation in which the quality of the data is rather poor. There is a lot of noise added to the dataset which is hard to handle. We will set up an autoencoder to tackle the task of **denoising**.\n",
    "\n",
    "First, let's prepare a dataset, which is contains a signal we are interested in and the noise."
   ]
  },
  {
   "cell_type": "code",
   "execution_count": null,
   "id": "1c388e92",
   "metadata": {},
   "outputs": [],
   "source": [
    "\n",
    "import numpy as np\n",
    "import torch\n",
    "\n",
    "np.random.seed(13)\n",
    "torch.random.manual_seed(12)"
   ]
  },
  {
   "cell_type": "code",
   "execution_count": null,
   "id": "c59ede10",
   "metadata": {},
   "outputs": [],
   "source": [
    "from mnist1d.data import get_dataset_args, make_dataset\n",
    "\n",
    "# disable noise for a clear reference\n",
    "clean_config = get_dataset_args()\n",
    "clean_config.iid_noise_scale = 0\n",
    "clean_config.corr_noise_scale = 0\n",
    "clean_config.seed = 40\n",
    "clean = make_dataset(clean_config)\n",
    "cleanX, cleany = clean[\"x\"], clean[\"y\"]\n",
    "\n",
    "# use iid noise only for the time being\n",
    "noisy_config = get_dataset_args()\n",
    "noisy_config.iid_noise_scale = 0.1\n",
    "noisy_config.corr_noise_scale = 0\n",
    "noisy_config.seed = 40\n",
    "data = make_dataset(noisy_config)\n",
    "\n",
    "X, y = data[\"x\"], data[\"y\"]"
   ]
  },
  {
   "cell_type": "markdown",
   "id": "5b20e4a4",
   "metadata": {
    "cell_marker": "\"\"\""
   },
   "source": [
    "Now, let's plot the data which we would like to use."
   ]
  },
  {
   "cell_type": "code",
   "execution_count": null,
   "id": "8344e21f",
   "metadata": {},
   "outputs": [],
   "source": [
    "import matplotlib.pyplot as plt\n",
    "\n",
    "f, ax = plt.subplots(2, 5, figsize=(14, 5), sharex=True, sharey=True)\n",
    "\n",
    "for sample in range(10):\n",
    "    col = sample % 5\n",
    "    row = sample // 5\n",
    "    ax[row, col].plot(X[sample, ...], label=\"noisy\")\n",
    "    ax[row, col].plot(cleanX[sample, ...], label=\"clean\", color=\"green\")\n",
    "    label = y[sample]\n",
    "    ax[row, col].set_title(f\"label {label}\")\n",
    "    if row == 1:\n",
    "        ax[row, col].set_xlabel(f\"samples / a.u.\")\n",
    "    if col == 0:\n",
    "        ax[row, col].set_ylabel(f\"intensity / a.u.\")\n",
    "    if col == 4 and row == 0:\n",
    "        ax[row, col].legend()\n",
    "\n",
    "f.suptitle(\"MNIST1D examples\")\n",
    "f.savefig(\"mnist1d_noisy_first10.svg\")"
   ]
  },
  {
   "cell_type": "markdown",
   "id": "074310eb",
   "metadata": {
    "cell_marker": "\"\"\""
   },
   "source": [
    "As we can see, the data is filled with jitter. Furthermore, it is interesting to note, that our dataset is still far from trivial. Have a look at all signals which are assigned to label `6`. Could you make them out by eye?\n",
    "\n",
    "## Designing an autoencoder\n",
    "\n",
    "The [autoencoder architecture](https://en.wikipedia.org/wiki/Autoencoder) is well illustrated on wikipedia. We reproduce [the image](https://commons.wikimedia.org/wiki/File:Autoencoder_schema.png) by [Michaela Massi](https://commons.wikimedia.org/w/index.php?title=User:Michela_Massi&action=edit&redlink=1) here for convenience:\n",
    "<div style=\"display: block;margin-left: auto;margin-right: auto;width: 75%;\"><img src=\"https://upload.wikimedia.org/wikipedia/commons/3/37/Autoencoder_schema.png\" alt=\"autoencoder schematic from wikipedia by Michaela Massi, CC-BY 4.0\"></div>\n",
    "\n",
    "The architecture consists of three parts:\n",
    "1. **the encoder** on the left: this small network ingests the input data `X` and compresses it into a smaller shape\n",
    "2. the **code** in the center: this is the \"bottleneck\" which holds the **latent representation** of your input data\n",
    "3. **the decoder** on the right: which reconstructs the output from the latent code\n",
    "\n",
    "The task of the autoencoder is to reconstruct the input as best as possible. This task is far from easy, as the autoencoder is forced to shrink the data into the latent space."
   ]
  },
  {
   "cell_type": "code",
   "execution_count": null,
   "id": "31484af3",
   "metadata": {},
   "outputs": [],
   "source": [
    "from utils import count_params\n",
    "\n",
    "\n",
    "class MyEncoder(torch.nn.Module):\n",
    "    def __init__(self, nlayers: int = 3, nchannels=16):\n",
    "        super().__init__()\n",
    "        self.layers = torch.nn.Sequential()\n",
    "\n",
    "        for i in range(nlayers - 1):\n",
    "            inchannels = 1 if i == 0 else nchannels\n",
    "            # convolve and shrink input width by 2x\n",
    "            self.layers.append(\n",
    "                torch.nn.Conv1d(\n",
    "                    in_channels=inchannels,\n",
    "                    out_channels=nchannels,\n",
    "                    kernel_size=5,\n",
    "                    padding=2,\n",
    "                    stride=2,\n",
    "                )\n",
    "            )\n",
    "            self.layers.append(torch.nn.ReLU())\n",
    "\n",
    "        # convolve and keep input width\n",
    "        self.layers.append(\n",
    "            torch.nn.Conv1d(\n",
    "                in_channels=nchannels, out_channels=1, kernel_size=3, padding=1\n",
    "            )\n",
    "        )\n",
    "\n",
    "        # flatten and add a linear tail\n",
    "        self.layers.append(torch.nn.Flatten())\n",
    "\n",
    "    def forward(self, x):\n",
    "        # convolutions in torch require an explicit channel dimension to be\n",
    "        # present in the data in other words:\n",
    "        # inputs of size (nbatch, 40) do not work,\n",
    "        # inputs of size (nbatch, 1, 40) do work\n",
    "        if len(x.shape) == 2:\n",
    "            x = torch.unsqueeze(x, dim=1)\n",
    "        return self.layers(x)"
   ]
  },
  {
   "cell_type": "code",
   "execution_count": null,
   "id": "b50afb4a",
   "metadata": {},
   "outputs": [],
   "source": [
    "enc = MyEncoder()\n",
    "print(f\"constructed encoder with {count_params(enc)} parameters\")\n",
    "\n",
    "# convert input data to torch.Tensor\n",
    "Xt = torch.from_numpy(X)\n",
    "# convert to float\n",
    "Xt = Xt.float()\n",
    "# extract only first 8 samples for testing\n",
    "Xtest = Xt[:8, ...]\n",
    "\n",
    "latent_h = enc(Xtest)\n",
    "\n",
    "print(Xtest.shape, Xtest.dtype, \"->\", latent_h.shape, latent_h.dtype)\n",
    "assert (\n",
    "    latent_h.shape[-1] < Xtest.shape[-1]\n",
    "), f\"{latent_h.shape[-1]} !< {Xtest.shape[-1]}\"\n",
    "print(f\"encoder is ready to train!\")"
   ]
  },
  {
   "cell_type": "markdown",
   "id": "01b2fabd",
   "metadata": {
    "cell_marker": "\"\"\""
   },
   "source": [
    "The encoder has been constructed. Now, we need to add a decoder object to reconstruct from the latent space."
   ]
  },
  {
   "cell_type": "code",
   "execution_count": null,
   "id": "3ef3f2cb",
   "metadata": {},
   "outputs": [],
   "source": [
    "class MyDecoder(torch.nn.Module):\n",
    "    def __init__(self, nlayers: int = 3, nchannels=16):\n",
    "        super().__init__()\n",
    "        self.layers = torch.nn.Sequential()\n",
    "\n",
    "        for i in range(nlayers - 1):\n",
    "            inchannels = 1 if i == 0 else nchannels\n",
    "            # deconvolve/Upsample and grow input width by 2x\n",
    "            self.layers.append(\n",
    "                torch.nn.ConvTranspose1d(\n",
    "                    in_channels=inchannels,\n",
    "                    out_channels=nchannels,\n",
    "                    kernel_size=5,\n",
    "                    padding=2,\n",
    "                    stride=2,\n",
    "                    output_padding=1,\n",
    "                )\n",
    "            )\n",
    "            self.layers.append(torch.nn.ReLU())\n",
    "\n",
    "        # convolve and keep input width\n",
    "        self.layers.append(\n",
    "            torch.nn.Conv1d(\n",
    "                in_channels=nchannels, out_channels=1, kernel_size=3, padding=1\n",
    "            )\n",
    "        )\n",
    "\n",
    "    def forward(self, x):\n",
    "        # convolutions in torch require an explicit channel dimension to be\n",
    "        # present in the data in other words:\n",
    "        # inputs of size (nbatch, 40) do not work,\n",
    "        # inputs of size (nbatch, 1, 40) do work\n",
    "        if len(x.shape) == 2:\n",
    "            x = torch.unsqueeze(x, dim=1)\n",
    "\n",
    "        return self.layers(x)"
   ]
  },
  {
   "cell_type": "code",
   "execution_count": null,
   "id": "c776b34d",
   "metadata": {},
   "outputs": [],
   "source": [
    "dec = MyDecoder()\n",
    "print(f\"constructed decoder with {count_params(dec)} parameters\")\n",
    "\n",
    "Xt_prime = dec(latent_h)\n",
    "assert (\n",
    "    Xt_prime.squeeze(1).shape == Xtest.shape\n",
    "), f\"{Xt_prime.squeeze(1).shape} != {Xtest.shape}\"\n",
    "print(f\"decoder is ready to train!\")"
   ]
  },
  {
   "cell_type": "markdown",
   "id": "62250b8b",
   "metadata": {
    "cell_marker": "\"\"\""
   },
   "source": [
    "We have now all the lego bricks in place to compose an autoencoder. We do this by comining the encoder and decoder in yet another `torch.nn.Module`."
   ]
  },
  {
   "cell_type": "code",
   "execution_count": null,
   "id": "cf0bd476",
   "metadata": {},
   "outputs": [],
   "source": [
    "class MyAutoencoder(torch.nn.Module):\n",
    "    def __init__(self, nlayers: int = 3, nchannels=16):\n",
    "        super().__init__()\n",
    "\n",
    "        self.enc = MyEncoder(nlayers, nchannels)\n",
    "        self.dec = MyDecoder(nlayers, nchannels)\n",
    "\n",
    "    def forward(self, x):\n",
    "        # construct the latents\n",
    "        h = self.enc(x)\n",
    "\n",
    "        # perform reconstruction\n",
    "        x_prime = self.dec(h)\n",
    "\n",
    "        return x_prime"
   ]
  },
  {
   "cell_type": "markdown",
   "id": "13a986db",
   "metadata": {
    "cell_marker": "\"\"\""
   },
   "source": [
    "We can test our autoencoder works as expected similar to what we did above."
   ]
  },
  {
   "cell_type": "code",
   "execution_count": null,
   "id": "5b5fb43f",
   "metadata": {},
   "outputs": [],
   "source": [
    "model = MyAutoencoder()\n",
    "print(f\"constructed autoencoder with {count_params(model)} parameters\")\n",
    "\n",
    "Xt_prime = model(Xtest)\n",
    "\n",
    "assert (\n",
    "    Xt_prime.squeeze(1).shape == Xtest.shape\n",
    "), f\"{Xt_prime.squeeze(1).shape} != {Xtest.shape}\"\n",
    "print(f\"autoencoder is ready to train!\")"
   ]
  },
  {
   "cell_type": "markdown",
   "id": "d1c18f6b",
   "metadata": {
    "cell_marker": "\"\"\""
   },
   "source": [
    "## **Exercise 04.1** MLPs for an autoencoder\n",
    "\n",
    "We have so far built up our autoencoder with convolutional operations only. The same can be done with `torch.nn.Linear` layers only. **Please code an encoder and decoder that only require the use of `torch.nn.Linear` layers!** Keep the signature of the `self.__init__` methods the same."
   ]
  },
  {
   "cell_type": "code",
   "execution_count": null,
   "id": "a1eb5008",
   "metadata": {
    "jupyter": {
     "source_hidden": true
    }
   },
   "outputs": [],
   "source": [
    "# 03.1 Solution\n",
    "class MyLinearEncoder(torch.nn.Module):\n",
    "    def __init__(self, nlayers: int = 3, nchannels=16, inputdim=40):\n",
    "        super().__init__()\n",
    "        self.layers = torch.nn.Sequential()\n",
    "        indim = inputdim\n",
    "\n",
    "        # shrink input width by 2x\n",
    "        outdim = inputdim // 2\n",
    "\n",
    "        for i in range(nlayers - 1):\n",
    "            self.layers.append(torch.nn.Linear(indim, outdim))\n",
    "\n",
    "            # shrink input width by 2x\n",
    "            indim = outdim\n",
    "            outdim = indim // 2\n",
    "\n",
    "            if i != (nlayers - 2):\n",
    "                self.layers.append(torch.nn.ReLU())\n",
    "\n",
    "    def forward(self, x):\n",
    "        return self.layers(x)\n",
    "\n",
    "\n",
    "class MyLinearDecoder(torch.nn.Module):\n",
    "    def __init__(self, nlayers: int = 3, nchannels=16, inputdim=10):\n",
    "        super().__init__()\n",
    "        self.layers = torch.nn.Sequential()\n",
    "        indim = inputdim\n",
    "\n",
    "        # expand input width by 2x\n",
    "        outdim = inputdim * 2\n",
    "\n",
    "        for i in range(nlayers - 1):\n",
    "            self.layers.append(torch.nn.Linear(indim, outdim))\n",
    "\n",
    "            indim = outdim\n",
    "            # expand input width by 2x\n",
    "            outdim = indim * 2\n",
    "\n",
    "            # no relu for last layer\n",
    "            if i != (nlayers - 2):\n",
    "                self.layers.append(torch.nn.ReLU())\n",
    "\n",
    "    def forward(self, x):\n",
    "        return self.layers(x)\n",
    "\n",
    "\n",
    "lenc = MyLinearEncoder()\n",
    "ldec = MyLinearDecoder()\n",
    "# uncomment the following line if you like to know the number of parameters\n",
    "# print(f\"constructed encoder ({count_params(lenc)} parameters) and decoder ({count_params(ldec)} parameters)\")\n",
    "\n",
    "# watch out, as we don't use convolutions, we don't need the extra dimension\n",
    "# to denominate the channel number\n",
    "Xtest_ = Xtest\n",
    "latent_h_ = lenc(Xtest_)\n",
    "assert latent_h_.shape == (8, 10), f\"{latent_h_.shape} is not (8,10) as expected\"\n",
    "Xtest_prime_ = ldec(latent_h_)\n",
    "assert Xtest_prime_.shape == Xtest_.shape, f\"{Xtest_prime_.shape} != {Xtest_.shape}\""
   ]
  },
  {
   "cell_type": "markdown",
   "id": "620da69c",
   "metadata": {
    "cell_marker": "\"\"\""
   },
   "source": [
    "## Training an autoencoder\n",
    "\n",
    "Training the autoencoder works in the same line as training for regression from the last episode.\n",
    "\n",
    "1. create the dataset\n",
    "2. create the loaders\n",
    "3. setup the model\n",
    "4. setup the optimizer\n",
    "5. loop through epochs"
   ]
  },
  {
   "cell_type": "code",
   "execution_count": null,
   "id": "db6e4c59",
   "metadata": {
    "lines_to_next_cell": 1
   },
   "outputs": [],
   "source": [
    "from torch.utils.data import DataLoader\n",
    "from utils import MNIST1D\n",
    "\n",
    "training_data = MNIST1D(mnist1d_args=noisy_config)\n",
    "test_data = MNIST1D(mnist1d_args=noisy_config, train=False)\n",
    "clean_data = MNIST1D(mnist1d_args=clean_config, train=False)\n",
    "\n",
    "nsamples = len(training_data) + len(test_data)\n",
    "assert nsamples == 4000, f\"number of samples for MNIST1D is not 4000 but {nsamples}\"\n",
    "\n",
    "train_dataloader = DataLoader(training_data, batch_size=64, shuffle=True)\n",
    "test_dataloader = DataLoader(test_data, batch_size=64, shuffle=False)\n",
    "\n",
    "model = MyAutoencoder()\n",
    "learning_rate = 1e-3\n",
    "max_epochs = 30\n",
    "log_every = 5\n",
    "\n",
    "optimizer = torch.optim.AdamW(model.parameters(), lr=learning_rate)\n",
    "criterion = torch.nn.MSELoss()  # our loss function"
   ]
  },
  {
   "cell_type": "code",
   "execution_count": null,
   "id": "64962ec7",
   "metadata": {
    "lines_to_next_cell": 0
   },
   "outputs": [],
   "source": [
    "# write the training loop\n",
    "def train_autoencoder(model, opt, crit, train_dataloader, test_dataloader, max_epochs, log_every=5):\n",
    "\n",
    "    results = {\"train_losses\": [], \"test_losses\": []}\n",
    "    ntrainsteps = len(train_dataloader)\n",
    "    nteststeps = len(test_dataloader)\n",
    "    train_loss, test_loss = torch.zeros((ntrainsteps,)), torch.zeros((nteststeps,))\n",
    "\n",
    "    for epoch in range(max_epochs):\n",
    "        # perform training for one epoch\n",
    "        for idx, (X, _) in enumerate(train_dataloader):\n",
    "            # forward pass\n",
    "            X_prime = model(X)\n",
    "\n",
    "            # compute loss\n",
    "            loss = crit(X_prime, X)\n",
    "\n",
    "            # compute gradient\n",
    "            loss.backward()\n",
    "\n",
    "            # apply weight update rule\n",
    "            opt.step()\n",
    "\n",
    "            # set gradients to 0\n",
    "            opt.zero_grad()\n",
    "\n",
    "            train_loss[idx] = loss.item()\n",
    "\n",
    "        for idx, (X_test, y_test) in enumerate(test_dataloader):\n",
    "            X_prime_test = model(X_test)\n",
    "            loss_ = crit(X_prime_test, X_test)\n",
    "            test_loss[idx] = loss_.item()\n",
    "\n",
    "        results[\"train_losses\"].append(train_loss.mean())\n",
    "        results[\"test_losses\"].append(test_loss.mean())\n",
    "\n",
    "        if epoch % log_every == 0 or (epoch + 1) == max_epochs:\n",
    "            print(\n",
    "                f\"{epoch+1:02.0f}/{max_epochs} :: training loss {train_loss.mean():03.4f}; test loss {test_loss.mean():03.4f}\"\n",
    "            )\n",
    "    return results\n",
    "\n",
    "\n",
    "results = train_autoencoder(model,\n",
    "                            optimizer,\n",
    "                            criterion,\n",
    "                            train_dataloader,\n",
    "                            test_dataloader,\n",
    "                            max_epochs,\n",
    "                            log_every)"
   ]
  },
  {
   "cell_type": "code",
   "execution_count": null,
   "id": "e89df145",
   "metadata": {},
   "outputs": [],
   "source": [
    "f, ax = plt.subplots(1, 2, figsize=(10, 4))\n",
    "\n",
    "ax[0].plot(results[\"train_losses\"], color=\"b\", label=\"train\")\n",
    "ax[0].plot(results[\"test_losses\"], color=\"orange\", label=\"test\")\n",
    "ax[0].set_xlabel(\"epoch\")\n",
    "ax[0].set_ylabel(\"avergage MSE Loss / a.u.\")\n",
    "ax[0].set_yscale(\"log\")\n",
    "ax[0].set_title(\"Loss\")\n",
    "ax[0].legend()\n",
    "\n",
    "index = 0\n",
    "# perform prediction again\n",
    "last_x, last_y = test_data[index]\n",
    "last_x_prime = model(last_x.unsqueeze(0))\n",
    "\n",
    "# prepare tensors for plotting\n",
    "last_in = last_x.detach().squeeze().numpy()\n",
    "last_out = last_x_prime.detach().squeeze().numpy()\n",
    "\n",
    "# obtain reference data\n",
    "clean_x, clean_y = clean_data[index]\n",
    "clean_in = clean_x.detach().squeeze().numpy()\n",
    "\n",
    "ax[1].plot(last_in, color=\"b\", label=\"test input\")\n",
    "ax[1].plot(last_out, color=\"orange\", label=\"test prediction\")\n",
    "ax[1].plot(clean_in, color=\"green\", linestyle=\"--\", label=\"clean\")\n",
    "ax[1].set_xlabel(\"samples / a.u.\")\n",
    "ax[1].set_ylabel(\"intensity / a.u.\")\n",
    "ax[1].set_title(f\"Conv-based Autoencoder, label = {last_y.detach().item()}\")\n",
    "ax[1].legend()\n",
    "\n",
    "f.savefig(\"mnist1d_noisy_conv_autoencoder_training.svg\")"
   ]
  },
  {
   "cell_type": "markdown",
   "id": "e672d02f",
   "metadata": {
    "cell_marker": "\"\"\""
   },
   "source": [
    "We can see that the autoencoder smoothed the input signal when producing a reconstruction. This denoising effect can be quite helpful in practice. The core reasons for this effect are:\n",
    "1. the bottleneck (producing the latent representation) in the architecture forces the model to generalize the input data\n",
    "2. we train using the L2 norm (or mean squared error) as the loss function, this has a smoothing effect as well as the learning goal for the model is effectively to produce low differences on average\n",
    "3. we use convolutions which slide across the data and hence can incur a smoothing effect\n",
    "\n",
    "If you try the last cell with different values for `index` you will also see that the autoencoder did not memorize the data or magically learned how to reproduce the denoised `clean` data."
   ]
  },
  {
   "cell_type": "markdown",
   "id": "28a3dcb6",
   "metadata": {
    "cell_marker": "\"\"\"",
    "lines_to_next_cell": 1
   },
   "source": [
    "## **Exercise 04.2** MLPs for an autoencoder for good\n",
    "\n",
    "Rewrite the MyAutoencoder class to use the encoder/decoder classes which employ `torch.nn.Linear` layers only. Rerun the training with them! Do you observe a difference in the reconstruction?"
   ]
  },
  {
   "cell_type": "code",
   "execution_count": null,
   "id": "ed296797",
   "metadata": {
    "jupyter": {
     "source_hidden": true
    }
   },
   "outputs": [],
   "source": [
    "# 03.2 Solution\n",
    "\n",
    "class MyLinearAutoencoder(torch.nn.Module):\n",
    "    def __init__(self, nlayers: int = 3, nchannels=16):\n",
    "        super().__init__()\n",
    "\n",
    "        self.enc = MyLinearEncoder(nlayers, nchannels)\n",
    "        self.dec = MyLinearDecoder(nlayers, nchannels)\n",
    "\n",
    "    def forward(self, x):\n",
    "        # construct the latents\n",
    "        h = self.enc(x)\n",
    "\n",
    "        # perform reconstruction\n",
    "        x_prime = self.dec(h)\n",
    "\n",
    "        return x_prime\n",
    "\n",
    "# setup model and optimizer\n",
    "lmodel = MyLinearAutoencoder()\n",
    "loptimizer = optimizer = torch.optim.AdamW(lmodel.parameters(), lr=learning_rate)\n",
    "\n",
    "# run training\n",
    "lresults = train_autoencoder(lmodel,\n",
    "                             loptimizer,\n",
    "                             criterion,\n",
    "                             train_dataloader,\n",
    "                             test_dataloader,\n",
    "                             max_epochs,\n",
    "                            log_every)\n",
    "\n",
    "# viz the results\n",
    "f, ax = plt.subplots(1, 2, figsize=(10, 4))\n",
    "\n",
    "ax[0].plot(lresults[\"train_losses\"], color=\"b\", label=\"train\")\n",
    "ax[0].plot(lresults[\"test_losses\"], color=\"orange\", label=\"test\")\n",
    "ax[0].set_xlabel(\"epoch\")\n",
    "ax[0].set_ylabel(\"avergage MSE Loss / a.u.\")\n",
    "ax[0].set_yscale(\"log\")\n",
    "ax[0].set_title(\"Loss\")\n",
    "ax[0].legend()\n",
    "\n",
    "# perform prediction again\n",
    "last_x_prime = lmodel(last_x.unsqueeze(0))\n",
    "\n",
    "# prepare tensors for plotting\n",
    "last_out = last_x_prime.detach().squeeze().numpy()\n",
    "\n",
    "ax[1].plot(last_in, color=\"b\", label=\"test input\")\n",
    "ax[1].plot(last_out, color=\"orange\", label=\"test prediction\")\n",
    "ax[1].plot(clean_in, color=\"green\", linestyle=\"--\", label=\"clean\")\n",
    "ax[1].set_xlabel(\"samples / a.u.\")\n",
    "ax[1].set_ylabel(\"intensity / a.u.\")\n",
    "ax[1].set_title(f\"Linear Autoencoder, label = {last_y.detach().item()}\")\n",
    "ax[1].legend()\n",
    "\n",
    "f.savefig(\"mnist1d_noisy_linear_autoencoder_training.svg\")"
   ]
  },
  {
   "cell_type": "markdown",
   "id": "52668192",
   "metadata": {
    "cell_marker": "\"\"\"",
    "jupyter": {
     "source_hidden": true
    }
   },
   "source": [
    "Congratulations, you have successfully trained an all-linear autoencoder! You can see that the denoising effect is not as strong as with the convolutional operations. One thing is certain however, also the linear layer based autoencoder is capable of retaining the signal \"peaks\". Note, some generalisations based on this are premature at this point.\n",
    "\n",
    "To draw more conclusions, here are some things to try while retaining the number of parameters of both autoencoders the same:\n",
    "- train on more data\n",
    "- use different activation functions\n",
    "- add more layers\n",
    "- optimize the hyperparameters for training (learning_rate, number of epochs, ...)"
   ]
  },
  {
   "cell_type": "markdown",
   "id": "d3e59e00",
   "metadata": {
    "cell_marker": "\"\"\""
   },
   "source": [
    "# BONUS: Why do we need VAEs then?\n",
    "\n",
    "If autoencoders work so well, why would you then expand and alter this technology to create variational autoencoders? The answer is somewhat straight forward and complicated at the same time: because AEs do not generate data well. Let's explore this!"
   ]
  },
  {
   "cell_type": "code",
   "execution_count": null,
   "id": "11bdb2e4",
   "metadata": {
    "lines_to_next_cell": 0
   },
   "outputs": [],
   "source": [
    "clean_test = MNIST1D(mnist1d_args=clean_config, train=False)\n",
    "clean_train = MNIST1D(mnist1d_args=clean_config, train=True)\n",
    "\n",
    "train_cleanloader = DataLoader(clean_train, batch_size=64, shuffle=True)\n",
    "test_cleanloader = DataLoader(clean_test, batch_size=len(clean_test), shuffle=False)\n",
    "\n",
    "learning_rate = 1e-3\n",
    "max_epochs = 10\n",
    "log_every = 2\n",
    "cmodel = MyAutoencoder()\n",
    "coptimizer = optimizer = torch.optim.AdamW(cmodel.parameters(), lr=learning_rate)\n",
    "\n",
    "lresults = train_autoencoder(cmodel,\n",
    "                             coptimizer,\n",
    "                             criterion,\n",
    "                             clean_train,\n",
    "                             clean_test,\n",
    "                             max_epochs,\n",
    "                            log_every)\n",
    "\n",
    "# let's look at the latent space of the autoencoder\n",
    "import seaborn as sns\n",
    "import pandas as pd\n",
    "\n",
    "test_x, _ = next(iter(test_cleanloader))\n",
    "latents = cmodel.enc(test_x)\n",
    "latents_ = latents.detach().squeeze().numpy()\n",
    "latentsdf = pd.DataFrame(data=latents_,\n",
    "                         index=torch.arange(test_x.shape[0]).numpy())\n",
    "grid = sns.pairplot(data=latentsdf, corner=True)\n",
    "grid.savefig(\"mnist1d_clean_conv_autoencoder_latents.svg\")\n",
    "\n",
    "mins, means, stds, maxs = np.min( latents_, axis=0), np.mean(latents_, axis=0), np.std( latents_, axis=0), np.max(latents_, axis=0)\n",
    "\n",
    "print(\"min values\" , mins)\n",
    "print(\"mean values\", means)\n",
    "print(\"std values\" , stds )\n",
    "print(\"max values\" , maxs )"
   ]
  },
  {
   "cell_type": "markdown",
   "id": "47fe972c",
   "metadata": {
    "cell_marker": "\"\"\""
   },
   "source": [
    "The plot above tells us, that the shape of the distributions in each latent space dimension is somewhat gaussian. You can verify this, but there is still no guarantee that with more data, these distributions might be non-normal.\n",
    "\n",
    "So let's turn the table around. Let's sample from a multi-variate normal distribution and only generate samples using the decoder."
   ]
  },
  {
   "cell_type": "code",
   "execution_count": null,
   "id": "8444e147",
   "metadata": {
    "lines_to_next_cell": 0
   },
   "outputs": [],
   "source": [
    "cov = stds.T*np.eye(stds.shape[0])\n",
    "generated_ = np.random.multivariate_normal(means, cov, 16)\n",
    "generated = torch.from_numpy(generated_).float()\n",
    "assert generated.shape == (16, 10)\n",
    "\n",
    "X_new = cmodel.dec(generated)\n",
    "\n",
    "f, ax = plt.subplots(4, 4, figsize=(12, 12), sharex=True, sharey=True)\n",
    "cnt = 0\n",
    "for r in range(4):\n",
    "    for c in range(4):\n",
    "        ax[r, c].plot(generated[cnt, ...].detach().numpy())\n",
    "        cnt += 1\n",
    "f.savefig(\"mnist1d_clean_conv_autoencoder_generated.svg\")"
   ]
  },
  {
   "cell_type": "markdown",
   "id": "fd78ac42",
   "metadata": {
    "cell_marker": "\"\"\""
   },
   "source": [
    "Congratulations! You have just trained your first generative AI! But look at what you created, the generated examples look vaguely like the original. This can have 2 main reasons:\n",
    "- your decoder is not expressive enough (try optimising it, increase the size of the training set, ...)\n",
    "- the random samples we picked landed in regions of the latent space which the autoencoder did not populate (in other words in holes)\n",
    "\n",
    "For the latter reason, people started looking into variational autoencoders in order to create latent space populations which are much more smooth and do not contain any holes."
   ]
  }
 ],
 "metadata": {
  "kernelspec": {
   "display_name": "Python 3 (ipykernel)",
   "language": "python",
   "name": "python3"
  }
 },
 "nbformat": 4,
 "nbformat_minor": 5
}
